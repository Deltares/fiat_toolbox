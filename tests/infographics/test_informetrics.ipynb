{
 "cells": [
  {
   "cell_type": "code",
   "execution_count": 1,
   "metadata": {},
   "outputs": [],
   "source": [
    "import os\n",
    "from fiat_toolbox.infographics.infographics import InfographicsParser\n",
    "from fiat_toolbox.infographics.risk_infographics import RiskInfographicsParser"
   ]
  },
  {
   "cell_type": "code",
   "execution_count": 2,
   "metadata": {},
   "outputs": [],
   "source": [
    "if os.path.exists('test_single_metrics.html'):\n",
    "    os.remove('test_single_metrics.html')\n",
    "\n",
    "if os.path.exists('test_risk_metrics.html'):\n",
    "    os.remove('test_risk_metrics.html')"
   ]
  },
  {
   "cell_type": "code",
   "execution_count": 3,
   "metadata": {},
   "outputs": [],
   "source": [
    "infographics_parser = InfographicsParser(\n",
    "    scenario_name='test_single',\n",
    "    metrics_full_path = \"data/single_event/test_scenario_metrics.csv\",\n",
    "    config_base_path=\"data/single_event/\",\n",
    "    output_base_path=\".\"\n",
    ")"
   ]
  },
  {
   "cell_type": "code",
   "execution_count": 4,
   "metadata": {},
   "outputs": [
    {
     "data": {
      "text/plain": [
       "'test_single_metrics.html'"
      ]
     },
     "execution_count": 4,
     "metadata": {},
     "output_type": "execute_result"
    }
   ],
   "source": [
    "infographics_parser.write_infographics_to_file()"
   ]
  },
  {
   "cell_type": "code",
   "execution_count": 5,
   "metadata": {},
   "outputs": [],
   "source": [
    "riskinfographics_parser = RiskInfographicsParser(\n",
    "    scenario_name='test_risk',\n",
    "    metrics_full_path = \"data/risk/test_scenario_metrics.csv\",\n",
    "    config_base_path=\"data/risk/\",\n",
    "    output_base_path=\".\"\n",
    ")"
   ]
  },
  {
   "cell_type": "code",
   "execution_count": 6,
   "metadata": {},
   "outputs": [
    {
     "data": {
      "text/plain": [
       "'test_risk_metrics.html'"
      ]
     },
     "execution_count": 6,
     "metadata": {},
     "output_type": "execute_result"
    }
   ],
   "source": [
    "riskinfographics_parser.write_infographics_to_file()"
   ]
  },
  {
   "cell_type": "code",
   "execution_count": null,
   "metadata": {},
   "outputs": [],
   "source": []
  }
 ],
 "metadata": {
  "kernelspec": {
   "display_name": "fiat_toolbox",
   "language": "python",
   "name": "python3"
  },
  "language_info": {
   "codemirror_mode": {
    "name": "ipython",
    "version": 3
   },
   "file_extension": ".py",
   "mimetype": "text/x-python",
   "name": "python",
   "nbconvert_exporter": "python",
   "pygments_lexer": "ipython3",
   "version": "3.11.5"
  }
 },
 "nbformat": 4,
 "nbformat_minor": 2
}
