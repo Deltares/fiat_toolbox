{
 "cells": [
  {
   "cell_type": "code",
   "execution_count": 8,
   "metadata": {},
   "outputs": [],
   "source": [
    "from equity import * \n",
    "\n",
    "# example code\n",
    "census_data = \"Equity/population_income_data.csv\"\n",
    "fiat_data = \"Equity/aggregated_damage.csv\"\n",
    "gamma = 1.2 # elasticity\n",
    "output_file_equity = \"Equity/aggregated_ewced.csv\"\n",
    "\n",
    "# census_data = pd.read_csv(census_data)\n",
    "# fiat_data  = pd.read_csv(fiat_data)"
   ]
  },
  {
   "cell_type": "code",
   "execution_count": 7,
   "metadata": {},
   "outputs": [
    {
     "name": "stderr",
     "output_type": "stream",
     "text": [
      "c:\\Users\\fuentesm\\CISNE\\Deltares\\fiat_toolbox\\fiat_toolbox\\equity.py:200: SettingWithCopyWarning: \n",
      "A value is trying to be set on a copy of a slice from a DataFrame\n",
      "\n",
      "See the caveats in the documentation: https://pandas.pydata.org/pandas-docs/stable/user_guide/indexing.html#returning-a-view-versus-a-copy\n",
      "  df_ewced[\"soc_res\"][df_ewced[\"soc_res\"] == np.inf] = np.nan\n"
     ]
    }
   ],
   "source": [
    "df_equity = setup_equity_method(census_data, fiat_data, gamma, output_file_equity)"
   ]
  }
 ],
 "metadata": {
  "kernelspec": {
   "display_name": "equity",
   "language": "python",
   "name": "python3"
  },
  "language_info": {
   "codemirror_mode": {
    "name": "ipython",
    "version": 3
   },
   "file_extension": ".py",
   "mimetype": "text/x-python",
   "name": "python",
   "nbconvert_exporter": "python",
   "pygments_lexer": "ipython3",
   "version": "3.9.16"
  },
  "orig_nbformat": 4
 },
 "nbformat": 4,
 "nbformat_minor": 2
}
