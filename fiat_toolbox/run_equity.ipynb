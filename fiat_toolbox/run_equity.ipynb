{
 "cells": [
  {
   "cell_type": "code",
   "execution_count": 2,
   "metadata": {},
   "outputs": [],
   "source": [
    "from equity import * \n",
    "\n",
    "def setup_equity_method(census_data, fiat_data, gamma, output_file):\n",
    "    gdf_all = get_equity_input(census_data , fiat_data)\n",
    "    gdf_all = calculate_equity_weights(gdf_all, gamma)\n",
    "    gdf_all, RP_cols = calculate_ewced_per_rp(gdf_all, gamma)\n",
    "    gdf_all = calculate_ewced_total(gdf_all, RP_cols)\n",
    "    # gdf_all = rank_ewced(gdf_all)\n",
    "    # gdf_all = calculate_resilience_index(gdf_all)\n",
    "    gdf_all_filtered = gdf_all[['Census_Bg', 'EW', 'EWCEAD']] \n",
    "    gdf_all_filtered.to_csv(output_file, index=False)\n",
    "    return gdf_all_filtered \n",
    "\n",
    "# example code\n",
    "census_data = \"../Jark_Kind/Equity/population_income_data.csv\"\n",
    "fiat_data = \"../Jark_Kind/Equity/aggregated_damage.csv\"\n",
    "gamma = 1.2 # elasticity\n",
    "output_file_equity = \"../Jark_Kind/Equity/aggregated_ewcead.csv\"\n",
    "\n",
    "df_equity = setup_equity_method(census_data, fiat_data, gamma, output_file_equity)"
   ]
  }
 ],
 "metadata": {
  "kernelspec": {
   "display_name": "equity",
   "language": "python",
   "name": "python3"
  },
  "language_info": {
   "codemirror_mode": {
    "name": "ipython",
    "version": 3
   },
   "file_extension": ".py",
   "mimetype": "text/x-python",
   "name": "python",
   "nbconvert_exporter": "python",
   "pygments_lexer": "ipython3",
   "version": "3.9.16"
  },
  "orig_nbformat": 4
 },
 "nbformat": 4,
 "nbformat_minor": 2
}
