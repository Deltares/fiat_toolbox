{
 "cells": [
  {
   "cell_type": "code",
   "execution_count": null,
   "metadata": {},
   "outputs": [],
   "source": [
    "import sys\n",
    "sys.path.append('../')"
   ]
  },
  {
   "cell_type": "code",
   "execution_count": null,
   "metadata": {},
   "outputs": [],
   "source": [
    "from fiat_toolbox.metrics_writer.fiat_write_metrics_file import WriteMetricsFile\n",
    "import pandas as pd\n",
    "import toml"
   ]
  },
  {
   "cell_type": "code",
   "execution_count": null,
   "metadata": {},
   "outputs": [],
   "source": [
    "config_path = \"../tests/metrics_writer/config/test_metrics_config.toml\"\n",
    "writer = WriteMetricsFile(config_path)"
   ]
  },
  {
   "cell_type": "code",
   "execution_count": null,
   "metadata": {},
   "outputs": [],
   "source": [
    "metrics_path = '../tests/metrics_writer/data/#PLACE_YOUR_FILE_PATH_HERE#'\n",
    "df_results = pd.read_csv(metrics_path, delimiter=';').head(10)"
   ]
  },
  {
   "cell_type": "code",
   "execution_count": null,
   "metadata": {},
   "outputs": [],
   "source": [
    "output_path = '../tests/metrics_writer/data/temp_metrics.csv'\n",
    "writer.parse_metrics_to_file(df_results, output_path, None)"
   ]
  }
 ],
 "metadata": {
  "kernelspec": {
   "display_name": "flood_adapt",
   "language": "python",
   "name": "python3"
  },
  "language_info": {
   "codemirror_mode": {
    "name": "ipython",
    "version": 3
   },
   "file_extension": ".py",
   "mimetype": "text/x-python",
   "name": "python",
   "nbconvert_exporter": "python",
   "pygments_lexer": "ipython3",
   "version": "3.11.4"
  },
  "orig_nbformat": 4
 },
 "nbformat": 4,
 "nbformat_minor": 2
}
