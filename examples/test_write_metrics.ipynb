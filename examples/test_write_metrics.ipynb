{
 "cells": [
  {
   "cell_type": "code",
   "execution_count": 8,
   "metadata": {},
   "outputs": [
    {
     "name": "stdout",
     "output_type": "stream",
     "text": [
      "['c:\\\\Users\\\\adrichem\\\\OneDrive - Stichting Deltares\\\\Documents\\\\FIAT_toolbox\\\\examples', 'c:\\\\Users\\\\adrichem\\\\AppData\\\\Local\\\\mambaforge-pypy3\\\\envs\\\\fiat_toolbox\\\\python311.zip', 'c:\\\\Users\\\\adrichem\\\\AppData\\\\Local\\\\mambaforge-pypy3\\\\envs\\\\fiat_toolbox\\\\DLLs', 'c:\\\\Users\\\\adrichem\\\\AppData\\\\Local\\\\mambaforge-pypy3\\\\envs\\\\fiat_toolbox\\\\Lib', 'c:\\\\Users\\\\adrichem\\\\AppData\\\\Local\\\\mambaforge-pypy3\\\\envs\\\\fiat_toolbox', '', 'c:\\\\Users\\\\adrichem\\\\AppData\\\\Local\\\\mambaforge-pypy3\\\\envs\\\\fiat_toolbox\\\\Lib\\\\site-packages', 'c:\\\\Users\\\\adrichem\\\\AppData\\\\Local\\\\mambaforge-pypy3\\\\envs\\\\fiat_toolbox\\\\Lib\\\\site-packages\\\\win32', 'c:\\\\Users\\\\adrichem\\\\AppData\\\\Local\\\\mambaforge-pypy3\\\\envs\\\\fiat_toolbox\\\\Lib\\\\site-packages\\\\win32\\\\lib', 'c:\\\\Users\\\\adrichem\\\\AppData\\\\Local\\\\mambaforge-pypy3\\\\envs\\\\fiat_toolbox\\\\Lib\\\\site-packages\\\\Pythonwin']\n"
     ]
    }
   ],
   "source": [
    "import sys\n",
    "\n",
    "print(sys.path)"
   ]
  },
  {
   "cell_type": "code",
   "execution_count": 9,
   "metadata": {},
   "outputs": [
    {
     "ename": "ModuleNotFoundError",
     "evalue": "No module named 'fiat_toolbox_test'",
     "output_type": "error",
     "traceback": [
      "\u001b[1;31m---------------------------------------------------------------------------\u001b[0m",
      "\u001b[1;31mModuleNotFoundError\u001b[0m                       Traceback (most recent call last)",
      "Cell \u001b[1;32mIn[9], line 1\u001b[0m\n\u001b[1;32m----> 1\u001b[0m \u001b[39mfrom\u001b[39;00m \u001b[39mfiat_toolbox_test\u001b[39;00m\u001b[39m.\u001b[39;00m\u001b[39mmetrics_writer\u001b[39;00m\u001b[39m.\u001b[39;00m\u001b[39mfiat_write_metrics_file\u001b[39;00m \u001b[39mimport\u001b[39;00m WriteMetricsFile\n\u001b[0;32m      2\u001b[0m \u001b[39mimport\u001b[39;00m \u001b[39mpandas\u001b[39;00m \u001b[39mas\u001b[39;00m \u001b[39mpd\u001b[39;00m\n",
      "\u001b[1;31mModuleNotFoundError\u001b[0m: No module named 'fiat_toolbox_test'"
     ]
    }
   ],
   "source": [
    "from fiat_toolbox.metrics_writer.fiat_write_metrics_file import WriteMetricsFile\n",
    "import pandas as pd"
   ]
  },
  {
   "cell_type": "code",
   "execution_count": null,
   "metadata": {},
   "outputs": [],
   "source": [
    "config_path = \"../tests/data/test_metrics_config.json\"\n",
    "writer = WriteMetricsFile(config_path)"
   ]
  },
  {
   "cell_type": "code",
   "execution_count": null,
   "metadata": {},
   "outputs": [
    {
     "name": "stderr",
     "output_type": "stream",
     "text": [
      "c:\\Users\\adrichem\\AppData\\Local\\mambaforge-pypy3\\envs\\fiat_objects\\lib\\site-packages\\IPython\\core\\interactiveshell.py:3257: DtypeWarning: Columns (8,9,13,14,18,20,31,32) have mixed types.Specify dtype option on import or set low_memory=False.\n",
      "  interactivity=interactivity, compiler=compiler, result=result)\n"
     ]
    }
   ],
   "source": [
    "metrics_path = '../tests/data/write_metrics_file/sfwmd_taylor_20230112140738_results.csv'\n",
    "df_results = pd.read_csv(metrics_path, delimiter=';').head(10)"
   ]
  },
  {
   "cell_type": "code",
   "execution_count": null,
   "metadata": {},
   "outputs": [],
   "source": [
    "output_path = '../tests/data/write_metrics_file/temp_metrics.csv'\n",
    "writer.parse_metrics_to_file(df_results, output_path, None)"
   ]
  }
 ],
 "metadata": {
  "kernelspec": {
   "display_name": "flood_adapt",
   "language": "python",
   "name": "python3"
  },
  "language_info": {
   "codemirror_mode": {
    "name": "ipython",
    "version": 3
   },
   "file_extension": ".py",
   "mimetype": "text/x-python",
   "name": "python",
   "nbconvert_exporter": "python",
   "pygments_lexer": "ipython3",
   "version": "3.11.4"
  },
  "orig_nbformat": 4
 },
 "nbformat": 4,
 "nbformat_minor": 2
}
