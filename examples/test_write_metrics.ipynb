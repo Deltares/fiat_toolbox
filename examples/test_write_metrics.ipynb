{
 "cells": [
  {
   "cell_type": "code",
   "execution_count": 1,
   "metadata": {},
   "outputs": [],
   "source": [
    "import sys\n",
    "sys.path.append('../')"
   ]
  },
  {
   "cell_type": "code",
   "execution_count": 2,
   "metadata": {},
   "outputs": [],
   "source": [
    "from fiat_toolbox.metrics_writer.fiat_write_metrics_file import WriteMetricsFile\n",
    "import pandas as pd\n",
    "import toml"
   ]
  },
  {
   "cell_type": "code",
   "execution_count": 3,
   "metadata": {},
   "outputs": [],
   "source": [
    "config_path = \"../tests/metrics_writer/config/test_metrics_config.toml\"\n",
    "writer = WriteMetricsFile(config_path)"
   ]
  },
  {
   "cell_type": "code",
   "execution_count": 4,
   "metadata": {},
   "outputs": [
    {
     "name": "stderr",
     "output_type": "stream",
     "text": [
      "C:\\Users\\adrichem\\AppData\\Local\\Temp\\ipykernel_19532\\4007668321.py:2: DtypeWarning: Columns (8,9,13,14,18,20,31,32) have mixed types. Specify dtype option on import or set low_memory=False.\n",
      "  df_results = pd.read_csv(metrics_path, delimiter=';').head(10)\n"
     ]
    }
   ],
   "source": [
    "metrics_path = '../tests/metrics_writer/data/sfwmd_taylor_20230112140738_results.csv'\n",
    "df_results = pd.read_csv(metrics_path, delimiter=';').head(10)"
   ]
  },
  {
   "cell_type": "code",
   "execution_count": 7,
   "metadata": {},
   "outputs": [
    {
     "name": "stdout",
     "output_type": "stream",
     "text": [
      ".toml\n",
      ".toml\n"
     ]
    }
   ],
   "source": [
    "output_path = '../tests/metrics_writer/data/temp_metrics.csv'\n",
    "writer.parse_metrics_to_file(df_results, output_path, None)"
   ]
  },
  {
   "cell_type": "code",
   "execution_count": null,
   "metadata": {},
   "outputs": [],
   "source": []
  }
 ],
 "metadata": {
  "kernelspec": {
   "display_name": "flood_adapt",
   "language": "python",
   "name": "python3"
  },
  "language_info": {
   "codemirror_mode": {
    "name": "ipython",
    "version": 3
   },
   "file_extension": ".py",
   "mimetype": "text/x-python",
   "name": "python",
   "nbconvert_exporter": "python",
   "pygments_lexer": "ipython3",
   "version": "3.11.4"
  },
  "orig_nbformat": 4
 },
 "nbformat": 4,
 "nbformat_minor": 2
}
