{
 "cells": [
  {
   "cell_type": "code",
   "execution_count": null,
   "metadata": {},
   "outputs": [],
   "source": [
    "import matplotlib.pyplot as plt\n",
    "import pandas as pd\n",
    "import seaborn as sns\n",
    "\n",
    "from fiat_toolbox.well_being import Household"
   ]
  },
  {
   "cell_type": "code",
   "execution_count": null,
   "metadata": {},
   "outputs": [],
   "source": [
    "# Prepare simple data for example\n",
    "data = {\n",
    "    'Household Type': ['Average', 'Poorest', 'Richest'],\n",
    "    'Monthly Income': [4000, 2000, 10000],\n",
    "    'Asset Value': [80000, 40000, 200000],\n",
    "    'Relative Damage': [0.3, 0.3, 0.3],\n",
    "    \"plt_color\": [\"grey\", \"k\", \"purple\"]\n",
    "}\n",
    "currency = \"$\"\n",
    "df = pd.DataFrame(data)\n",
    "df['Yearly Income'] = df['Monthly Income'] * 12\n",
    "inc_avg = df.loc[df[\"Household Type\"]==\"Average\", 'Yearly Income'].to_numpy()[0]\n",
    "\n",
    "df['cmin'] = 12000\n",
    "# df['cmin'] = (0.3 * df['Yearly Income']).clip(lower=12000)\n",
    " \n",
    "df"
   ]
  },
  {
   "cell_type": "code",
   "execution_count": null,
   "metadata": {},
   "outputs": [],
   "source": [
    "# Calculate asset loss\n",
    "df['Asset Loss'] = df['Relative Damage'] * df['Asset Value']\n",
    "\n",
    "# Melt the dataframe for seaborn\n",
    "df_melted = df.melt(id_vars='Household Type', value_vars=['Asset Value', 'Asset Loss'], \n",
    "                    var_name='Type', value_name='Value')\n",
    "\n",
    "# Plotting\n",
    "plt.figure(figsize=(6, 4))\n",
    "sns.barplot(x='Household Type', y='Value', hue='Type', data=df_melted)\n",
    "plt.xlabel('Household Type')\n",
    "plt.ylabel(currency)\n",
    "plt.title('Asset Values and Asset Losses by Household Type')\n",
    "plt.legend()\n",
    "plt.show()"
   ]
  },
  {
   "cell_type": "code",
   "execution_count": null,
   "metadata": {},
   "outputs": [],
   "source": [
    "#  Run the well-being model for each household type and optimize lambda\n",
    "losses = {}\n",
    "objects = {}\n",
    "\n",
    "for i, household in df.iterrows():\n",
    "    name = household['Household Type']\n",
    "    var = Household(v=household['Relative Damage'], k_str=household['Asset Value'], c0=household['Yearly Income'], c_avg=inc_avg, currency=currency, dt=1/365, cmin=household['cmin'])\n",
    "    var.opt_lambda()\n",
    "    losses[name] = var.get_losses()\n",
    "    objects[name] = var\n",
    "\n",
    "\n",
    "losses = pd.DataFrame(losses)\n",
    "losses"
   ]
  },
  {
   "cell_type": "code",
   "execution_count": null,
   "metadata": {},
   "outputs": [],
   "source": [
    "# Check how the lambda optimization works for each household type\n",
    "fig, axes = plt.subplots(2, 2, figsize=(10, 8), sharex='col', sharey='row')\n",
    "ax1, ax2, ax3, ax4 = axes.flatten()\n",
    "\n",
    "for i, row in df.iterrows():\n",
    "    ts = objects[row[\"Household Type\"]].l_opt\n",
    "    ax1.plot(ts[\"lambda\"], ts[\"Consumption Loss\"], row[\"plt_color\"], label=row[\"Household Type\"])\n",
    "    ax2.plot(ts[\"recovery_time\"], ts[\"Consumption Loss\"], row[\"plt_color\"], label=row[\"Household Type\"])\n",
    "    ax3.plot(ts[\"lambda\"], ts[\"Utility Loss\"], row[\"plt_color\"], label=row[\"Household Type\"])\n",
    "    ax4.plot(ts[\"recovery_time\"], ts[\"Utility Loss\"], row[\"plt_color\"], label=row[\"Household Type\"])\n",
    "    \n",
    "ax2.set_xscale('log')\n",
    "ax4.set_xscale('log')\n",
    "ax1.set_ylabel(f'Total Consumption Losses ({currency})')\n",
    "ax3.set_ylabel('Total Utility Losses')\n",
    "ax3.set_xlabel('Reconstruction rate λ')\n",
    "ax4.set_xlabel('Recovery Time (years)')\n",
    "ax4.legend()\n",
    "\n",
    "plt.tight_layout()"
   ]
  },
  {
   "cell_type": "code",
   "execution_count": null,
   "metadata": {},
   "outputs": [],
   "source": [
    "# Plot lambda optimization for each household type\n",
    "for i, row in df.iterrows():\n",
    "    obj = objects[row[\"Household Type\"]]\n",
    "    print(\"λ optimization for \", row[\"Household Type\"])\n",
    "    obj.plot_opt_lambda(x_type=\"time\")"
   ]
  },
  {
   "cell_type": "code",
   "execution_count": null,
   "metadata": {},
   "outputs": [],
   "source": [
    "# Plot consumption over time for each household type\n",
    "for i, row in df.iterrows():\n",
    "    obj = objects[row[\"Household Type\"]]\n",
    "    print(\"Consumption over time for\", row[\"Household Type\"])\n",
    "    obj.plot_consumption(plot_cmin=True)"
   ]
  },
  {
   "cell_type": "code",
   "execution_count": null,
   "metadata": {},
   "outputs": [],
   "source": [
    "# Select the specific rows for the plot\n",
    "plot_data = losses.loc[['Asset Loss', 'Consumption Loss', 'Wellbeing Loss', 'Equity Weighted Loss']]\n",
    "\n",
    "# Transpose the dataframe for plotting\n",
    "plot_data = plot_data.T\n",
    "\n",
    "# Plot the data\n",
    "plot_data.plot(kind='bar')\n",
    "plt.ylabel('Losses')\n",
    "plt.xlabel('Household Type')\n",
    "plt.title('Losses by Household Type')\n",
    "plt.xticks(rotation=0)\n",
    "plt.legend()\n",
    "plt.show()"
   ]
  }
 ],
 "metadata": {
  "kernelspec": {
   "display_name": "fiat_toolbox",
   "language": "python",
   "name": "python3"
  },
  "language_info": {
   "codemirror_mode": {
    "name": "ipython",
    "version": 3
   },
   "file_extension": ".py",
   "mimetype": "text/x-python",
   "name": "python",
   "nbconvert_exporter": "python",
   "pygments_lexer": "ipython3",
   "version": "3.10.0"
  }
 },
 "nbformat": 4,
 "nbformat_minor": 2
}
