{
 "cells": [
  {
   "cell_type": "code",
   "execution_count": null,
   "metadata": {},
   "outputs": [],
   "source": [
    "import matplotlib.pyplot as plt\n",
    "import numpy as np\n",
    "import seaborn as sb\n",
    "\n",
    "import fiat_toolbox.well_being.methods as em"
   ]
  },
  {
   "cell_type": "markdown",
   "metadata": {},
   "source": [
    "The well_being.methods module provides set of functions that are used in the well-being calculations.\n",
    "\n",
    "The utility derived from consumption is calculated using a constant relative risk aversion (CRRA) utility function, with η\n",
    "the elasticity of the marginal utility of consumption.\n",
    "\n",
    "### CRRA Utility Function\n",
    "\n",
    "- When ($\\eta \\neq 1 $):\n",
    "\n",
    "  $$\n",
    "  U(C) = \\frac{C^{1-\\eta}}{1 - \\eta}\n",
    "  $$\n",
    "\n",
    "- When ( $\\eta = 1$) (logarithmic utility):\n",
    "\n",
    "  $$\n",
    "  U(C) = \\ln(C)\n",
    "  $$\n",
    "\n",
    "\n",
    "**Higher η values (𝜂>1):**\n",
    "\n",
    "Stronger diminishing returns to consumption.\n",
    "A higher preference for equality—well-being is more sensitive to reductions in consumption than to increases.\n",
    "More weight is given to changes in consumption at lower levels.\n",
    "\n",
    "**Lower η values (η<1):**\n",
    "\n",
    "Weaker diminishing returns.\n",
    "Well-being is less sensitive to inequality.\n",
    "Changes in consumption at high levels have more impact."
   ]
  },
  {
   "cell_type": "markdown",
   "metadata": {},
   "source": [
    "Utility values themselves do not have an absolute interpretation; instead, they are useful for comparisons between different scenarios.\n",
    "\n",
    "Here we assume that the income is the only source of consumption and the utility is calculated as a function of income.\n",
    "\n",
    "For a specific income range we test different η values and calculate the utility curves. We normalize the utility curves to allow for comparison."
   ]
  },
  {
   "cell_type": "code",
   "execution_count": null,
   "metadata": {},
   "outputs": [],
   "source": [
    "# Create a range of eta values and income values\n",
    "eta_values = np.round(np.arange(0.2, 2, 0.2), decimals=1)\n",
    "income = np.linspace(10000, 200000, 500)\n",
    "# Plot each line with a different eta value\n",
    "for eta in eta_values:\n",
    "    utility_values = em.utility(consumption=income, eta=eta, normalize=True)\n",
    "    sb.lineplot(x=income, y=utility_values, label=f'η={eta}')\n",
    "# Add labels and title\n",
    "plt.xlabel('Income')\n",
    "plt.ylabel('Utility')\n",
    "plt.title('Utility vs Income for Different Eta Values')\n",
    "plt.legend()\n",
    "# Show the plot\n",
    "plt.show()"
   ]
  },
  {
   "cell_type": "markdown",
   "metadata": {},
   "source": [
    "Assuming that the reconstruction process follows an exponential decay model, and that a household has recovered when 95% of the reconstruction is completed, we can estimate the time it takes for a household to recover. The time to recovery is calculated as follows:\n",
    "\n",
    "$$\n",
    "\\tau = \\ln\\left(\\frac{1}{1-0.95}\\right) \\lambda^{-1}\n",
    "$$"
   ]
  },
  {
   "cell_type": "markdown",
   "metadata": {},
   "source": [
    "The λ will describe the % that is recovered at each time step. So e.g., if λ = 0.05/year, it means that the household recovers 5% of the remaining reconstruction costs each year. Then the recovery time will be in years. "
   ]
  },
  {
   "cell_type": "code",
   "execution_count": null,
   "metadata": {},
   "outputs": [],
   "source": [
    "rates = np.linspace(0.3, 10, 100)\n",
    "# Plot each line with a different eta value\n",
    "recovery_times = em.recovery_time(rates)\n",
    "sb.lineplot(x=rates, y=recovery_times, label='rebuilt_per=95%')\n",
    "# Add labels and title\n",
    "plt.xlabel('Recovery Rate')\n",
    "plt.ylabel('Recovery Time')\n",
    "plt.title('Recovery Time vs Recovery Rate')\n",
    "plt.legend()\n",
    "\n",
    "# Show the plot\n",
    "plt.show()"
   ]
  },
  {
   "cell_type": "markdown",
   "metadata": {},
   "source": [
    "Let's assume that we would like to calculate the well-being losses for a household in an arbitrary area over a recovery period of 10 years after a flood took place that damaged the building. Let's assume that the value of the building structure (**k_str**) is 30,000 USD and that the relative damage caused by the flood (**v**) was 70%."
   ]
  },
  {
   "cell_type": "code",
   "execution_count": null,
   "metadata": {},
   "outputs": [],
   "source": [
    "t_max = 10 # recovery time considered in years\n",
    "year_n = 52 # number of points we want to evaluate in a year\n",
    "times = np.linspace(0, t_max, t_max * year_n) # time points\n",
    "v = 0.4 # the loss ratio which is repair cost divided by the total building structure value\n",
    "k_str = 200000 # building structure value"
   ]
  },
  {
   "cell_type": "markdown",
   "metadata": {},
   "source": [
    "We can then calculate the reconstruction costs over time the '**reconstruction_cost_t**' function following the formula:\n",
    "$$\n",
    "c_{reco}(t) = \\lambda \\nu k^{str} e^{-\\lambda t}\n",
    "$$"
   ]
  },
  {
   "cell_type": "markdown",
   "metadata": {},
   "source": [
    "The recovery rate describes how quickly the household will repair the building. The highest the value the quickest the household will recover. Here we test 3 different values of λ: 0.3, 0.4, and 0.5."
   ]
  },
  {
   "cell_type": "code",
   "execution_count": null,
   "metadata": {},
   "outputs": [],
   "source": [
    "lambdas = [0.3, 0.4, 0.5] # recovery rates to test"
   ]
  },
  {
   "cell_type": "code",
   "execution_count": null,
   "metadata": {},
   "outputs": [],
   "source": [
    "# Calculate repair costs for all combinations\n",
    "repair_costs = [em.ReconstructionCost(t=times, l=_lambda, v=v, k_str=k_str) for _lambda in lambdas]\n",
    "# Plot the repair costs\n",
    "for i, _lambda in enumerate(lambdas):\n",
    "    sb.lineplot(x=times, y=repair_costs[i].losses_t, label=f\"lambda={_lambda}\")\n",
    "# Add labels and title\n",
    "plt.xlabel('Time (years)')\n",
    "plt.ylabel('Repair Costs ($/year)')\n",
    "plt.title('Repair Costs vs Time')\n",
    "plt.legend()"
   ]
  },
  {
   "cell_type": "markdown",
   "metadata": {},
   "source": [
    "Besides the reconstruction costs a household will suffer income losses relative to the loss of capital as well. The capital in this cases is the value of the building and we use a the productivity of capital index π to calculate the income losses. The income losses are calculated as follows:\n",
    "$$\n",
    "\\Delta i (t) = \\pi \\nu k^{str} e^{-\\lambda t}\n",
    "$$\n"
   ]
  },
  {
   "cell_type": "code",
   "execution_count": null,
   "metadata": {},
   "outputs": [],
   "source": [
    "pi = 0.15 # productivity of capital index\n",
    "# Calculate income loss for each lambda value and plot\n",
    "for _lambda in lambdas:\n",
    "    income_loss = em.IncomeLoss(t=times, l=_lambda, v=v, k_str=k_str, pi=pi)\n",
    "    sb.lineplot(x=times, y=income_loss.losses_t, label=f\"lambda={_lambda}\")\n",
    "# Add labels and title\n",
    "plt.xlabel('Time (years)')\n",
    "plt.ylabel('Income Loss ($/year)')\n",
    "plt.title('Income loss vs Time')\n",
    "plt.legend()\n"
   ]
  },
  {
   "cell_type": "markdown",
   "metadata": {},
   "source": [
    "Then we can calculate the consumption losses over time by simply adding up the reconstruction costs and the income losses:\n",
    "\n",
    "$$\n",
    "\\Delta c (t) = c_{reco}(t) + \\Delta i (t)\n",
    "$$"
   ]
  },
  {
   "cell_type": "code",
   "execution_count": null,
   "metadata": {},
   "outputs": [],
   "source": [
    "# Plot the consumption loss\n",
    "for _lambda in lambdas:\n",
    "    consumption_loss = em.ConsumptionLoss(t=times, l=_lambda, v=v, k_str=k_str, pi=pi)\n",
    "    line = sb.lineplot(x=times, y=consumption_loss.losses_t, label=f\"lambda={_lambda}\")\n",
    "\n",
    "# Add labels and title\n",
    "plt.xlabel('Time (years)')\n",
    "plt.ylabel('Consumption loss ($/year)')\n",
    "plt.title('Consumption loss vs Time')\n",
    "plt.legend()"
   ]
  },
  {
   "cell_type": "markdown",
   "metadata": {},
   "source": [
    "To calculate the optimal recovery rate for a household we can assume that the household will try to minimize the utility losses over the recovery period. We can calculate the utility losses with the UtilityLoss class, which has the losses_t attribute. For these calculations we need the yearly income of the household and the elasticity of the marginal utility of consumption. Then we can try different recovery rates and calculate the total utility losses for each of them. The optimal recovery rate is the one that minimizes the total utility losses."
   ]
  },
  {
   "cell_type": "code",
   "execution_count": null,
   "metadata": {},
   "outputs": [],
   "source": [
    "c0 = 60000 # yearly income\n",
    "eta = 1.5 # elasticity of the marginal utility\n",
    "savings = 0 # For now zero\n",
    "# Define time range for recovery rates\n",
    "t_min = 1/12\n",
    "t_max = 10 # recovery time considered in years\n",
    "year_n = 52 # how many points we want to evaluate in a year\n",
    "times = np.linspace(0, t_max, t_max * year_n) # time series to calculate utility loss rates\n",
    "# Define a range of lambda values to test\n",
    "rec_times_test = np.linspace(t_min, t_max, 100)\n",
    "_lambdas_test = em.recovery_rate(rec_times_test)\n",
    "\n",
    "# Calculate utility loss and consumption loss for each lambda value\n",
    "u_loss, c_loss = [], []\n",
    "for _lambda in _lambdas_test:\n",
    "    u_loss.append(em.UtilityLoss(times, _lambda, v=v, k_str=k_str, pi=pi, c0=c0, eta=eta, savings=savings))\n",
    "    c_loss.append(em.ConsumptionLoss(times, _lambda, v=v, k_str=k_str, pi=pi, savings=savings))\n",
    "\n",
    "# Store info\n",
    "c_loss_t_l = np.array([c.losses_t for c in c_loss])\n",
    "u_loss_l = np.array([u.total(rho=0, method=\"trapezoid\") for u in u_loss])\n",
    "\n",
    "# Find the lambda value corresponding to the minimum utility loss\n",
    "min_dw_index = np.nanargmin(u_loss_l)\n",
    "min_lambda = _lambdas_test[min_dw_index]"
   ]
  },
  {
   "cell_type": "markdown",
   "metadata": {},
   "source": [
    "Now we can plot all these information to visualize the utility losses and the consumption losses over time for different recovery rates. In the left graph you can see the consumption losses over time for different recovery rates. The red hatch indicates times that the consumption needed is higher than the income of the household, meaning that this recovery rates are not feasible. In the right graph you can see the total utility losses for each recovery rate. The optimal recovery rate is the one that minimizes the total utility losses."
   ]
  },
  {
   "cell_type": "code",
   "execution_count": null,
   "metadata": {},
   "outputs": [],
   "source": [
    "fig, (ax1, ax2) = plt.subplots(1, 2, figsize=(10, 5), sharey=True, width_ratios=[2, 1])\n",
    "\n",
    "# First plot: image plot as before\n",
    "masked_u_loss_t = np.ma.masked_invalid(c_loss_t_l)\n",
    "im = ax1.imshow(\n",
    "    masked_u_loss_t,\n",
    "    aspect='auto',\n",
    "    origin='lower',  # Flip the y-axis so the plot is upside down\n",
    "    cmap='viridis',\n",
    "    vmax=c0,\n",
    "    extent=[times[0], times[-1], t_min, t_max]\n",
    ")\n",
    "ax1.set_xlabel('Time (years)')\n",
    "ax1.set_ylabel('Recovery time (years)')\n",
    "ax1.set_title('Consumption loss over time and recovery time')\n",
    "fig.colorbar(im, ax=ax1, label='Consumption loss ($/year)')\n",
    "\n",
    "# Overlay hatched mask where values > c0\n",
    "hatch_mask = c_loss_t_l > c0\n",
    "X, Y = np.meshgrid(times, rec_times_test)\n",
    "ax1.contourf(\n",
    "    X, Y, hatch_mask,\n",
    "    levels=[0.5, 1],\n",
    "    colors='red',\n",
    "    hatches=['////'],\n",
    "    linewidths=0\n",
    ")\n",
    "\n",
    "# Second plot: utility loss vs lambda (reversed y-axis)\n",
    "ax2.plot(u_loss_l, rec_times_test)\n",
    "ax2.axhline(y= em.recovery_time(min_lambda), color='r', linestyle='--', label=f'Min Utility Loss at λ={min_lambda:.2f}')\n",
    "ax2.set_xlabel('Utility loss (-)')\n",
    "ax2.set_title('Utility loss vs Recovery time')\n",
    "ax2.legend()\n",
    "\n",
    "plt.tight_layout()\n",
    "plt.show()"
   ]
  },
  {
   "cell_type": "markdown",
   "metadata": {},
   "source": [
    "The `opt_lambda` method perform this calculations and returns the optimal lambda value. There are two methods to calculate the total loss. \n",
    "\n",
    "- The \"trapezoid\" method, which calculates the integral based on the trapezoid rule, using the numpy package (faster but accurate only for small enough time steps)\n",
    "- The \"quad\" method, which calculates the integral based on the adaptive quadrature algorithm, using the scipy package (slower but not dependent on time step)"
   ]
  },
  {
   "cell_type": "markdown",
   "metadata": {},
   "source": [
    "The \"opt_lambda\" method can be used directly to find the optimum lambda. Here is a comparison of the trapezoid and quad methods for the same example."
   ]
  },
  {
   "cell_type": "code",
   "execution_count": null,
   "metadata": {},
   "outputs": [],
   "source": [
    "import time\n",
    "start_time = time.time()\n",
    "optimal_lambda = em.opt_lambda(v, k_str, c0, pi, eta, times=times, l_min=_lambdas_test[-1], l_max=_lambdas_test[0], method=\"trapezoid\", savings=savings)\n",
    "end_time = time.time()\n",
    "\n",
    "print(f\"Time taken: {end_time - start_time} seconds\")\n",
    "print(f\"Optimal lambda: {optimal_lambda['l_opt_min']}\")"
   ]
  },
  {
   "cell_type": "code",
   "execution_count": null,
   "metadata": {},
   "outputs": [],
   "source": [
    "start_time = time.time()\n",
    "optimal_lambda = em.opt_lambda(v, k_str, c0, pi, eta, t_max=t_max, l_min=_lambdas_test[-1], l_max=_lambdas_test[0], method=\"quad\", savings=savings)\n",
    "end_time = time.time()\n",
    "\n",
    "print(f\"Time taken: {end_time - start_time} seconds\")\n",
    "print(f\"Optimal lambda: {optimal_lambda['l_opt_min']}\")"
   ]
  }
 ],
 "metadata": {
  "kernelspec": {
   "display_name": "fiat_toolbox",
   "language": "python",
   "name": "python3"
  },
  "language_info": {
   "codemirror_mode": {
    "name": "ipython",
    "version": 3
   },
   "file_extension": ".py",
   "mimetype": "text/x-python",
   "name": "python",
   "nbconvert_exporter": "python",
   "pygments_lexer": "ipython3",
   "version": "3.10.0"
  }
 },
 "nbformat": 4,
 "nbformat_minor": 2
}
