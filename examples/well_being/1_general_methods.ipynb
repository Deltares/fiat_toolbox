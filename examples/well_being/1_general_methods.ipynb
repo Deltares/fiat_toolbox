{
 "cells": [
  {
   "cell_type": "code",
   "execution_count": null,
   "metadata": {},
   "outputs": [],
   "source": [
    "import numpy as np\n",
    "import seaborn as sb\n",
    "import matplotlib.pyplot as plt\n",
    "import fiat_toolbox.well_being.methods as em"
   ]
  },
  {
   "cell_type": "markdown",
   "metadata": {},
   "source": [
    "The well_being.methods module provides set of functions that are used in the well-being calculations.\n",
    "\n",
    "The utility derived from consumption is calculated using a constant relative risk aversion (CRRA) utility function, with η\n",
    "the elasticity of the marginal utility of consumption.\n",
    "\n",
    "### CRRA Utility Function\n",
    "\n",
    "- When ($\\eta \\neq 1 $):\n",
    "\n",
    "  $$\n",
    "  U(C) = \\frac{C^{1-\\eta}}{1 - \\eta}\n",
    "  $$\n",
    "\n",
    "- When ( $\\eta = 1$) (logarithmic utility):\n",
    "\n",
    "  $$\n",
    "  U(C) = \\ln(C)\n",
    "  $$\n",
    "\n",
    "\n",
    "**Higher η values (𝜂>1):**\n",
    "\n",
    "Stronger diminishing returns to consumption.\n",
    "A higher preference for equality—well-being is more sensitive to reductions in consumption than to increases.\n",
    "More weight is given to changes in consumption at lower levels.\n",
    "\n",
    "**Lower η values (η<1):**\n",
    "\n",
    "Weaker diminishing returns.\n",
    "Well-being is less sensitive to inequality.\n",
    "Changes in consumption at high levels have more impact."
   ]
  },
  {
   "cell_type": "markdown",
   "metadata": {},
   "source": [
    "Utility values themselves do not have an absolute interpretation; instead, they are useful for comparisons between different scenarios.\n",
    "\n",
    "Here we assume that the income is the only source of consumption and the utility is calculated as a function of income.\n",
    "\n",
    "For a specific income range we test different η values and calculate the utility curves. We normalize the utility curves to allow for comparison."
   ]
  },
  {
   "cell_type": "code",
   "execution_count": null,
   "metadata": {},
   "outputs": [],
   "source": [
    "# Create a range of eta values and income values\n",
    "eta_values = np.round(np.arange(0.2, 2, 0.2), decimals=1)\n",
    "income = np.linspace(10000, 200000, 500)\n",
    "# Plot each line with a different eta value\n",
    "for eta in eta_values:\n",
    "    utility_values = em.utility(consumption=income, eta=eta, normalize=True)\n",
    "    sb.lineplot(x=income, y=utility_values, label=f'η={eta}')\n",
    "# Add labels and title\n",
    "plt.xlabel('Income')\n",
    "plt.ylabel('Utility')\n",
    "plt.title('Utility vs Income for Different Eta Values')\n",
    "plt.legend()\n",
    "# Show the plot\n",
    "plt.show()"
   ]
  },
  {
   "cell_type": "markdown",
   "metadata": {},
   "source": [
    "Assuming that the reconstruction process follows an exponential decay model, and that a household has recovered when 95% of the reconstruction is completed, we can estimate the time it takes for a household to recover. The time to recovery is calculated as follows:\n",
    "\n",
    "$$\n",
    "\\tau = \\ln\\left(\\frac{1}{1-0.95}\\right) \\lambda^{-1}\n",
    "$$"
   ]
  },
  {
   "cell_type": "markdown",
   "metadata": {},
   "source": [
    "The λ will describe the % that is recovered at each time step. So e.g., if λ = 0.05/year, it means that the household recovers 5% of the remaining reconstruction costs each year. Then the recovery time will be in years. "
   ]
  },
  {
   "cell_type": "code",
   "execution_count": null,
   "metadata": {},
   "outputs": [],
   "source": [
    "rates = np.linspace(0.3, 10, 100)\n",
    "# Plot each line with a different eta value\n",
    "recovery_times = em.recovery_time(rates)\n",
    "sb.lineplot(x=rates, y=recovery_times, label='rebuilt_per=95%')\n",
    "# Add labels and title\n",
    "plt.xlabel('Recovery Rate')\n",
    "plt.ylabel('Recovery Time')\n",
    "plt.title('Recovery Time vs Recovery Rate')\n",
    "plt.legend()\n",
    "\n",
    "# Show the plot\n",
    "plt.show()"
   ]
  },
  {
   "cell_type": "markdown",
   "metadata": {},
   "source": [
    "Let's assume that we would like to calculate the well-being losses for a household in an arbitrary area over a recovery period of 10 years after a flood took place that damaged the building. Let's assume that the value of the building structure (**k_str**) is 30,000 USD and that the relative damage caused by the flood (**v**) was 70%."
   ]
  },
  {
   "cell_type": "code",
   "execution_count": null,
   "metadata": {},
   "outputs": [],
   "source": [
    "t_max = 10 # recovery time considered in years\n",
    "year_n = 52 # number of points we want to evaluate in a year\n",
    "times = np.linspace(0, t_max, t_max * year_n) # time points\n",
    "lambdas = np.array([0.3, 0.4, 0.5]) # recovery rates to test\n",
    "v = 0.7 # the loss ratio which is repair cost divided by the total building structure value\n",
    "k_str = 30000 # building structure value"
   ]
  },
  {
   "cell_type": "markdown",
   "metadata": {},
   "source": [
    "We can then calculate the reconstruction costs over time the '**reconstruction_cost_t**' function following the formula:\n",
    "$$\n",
    "c_{reco}(t) = \\lambda \\nu k^{str} e^{-\\lambda t}\n",
    "$$"
   ]
  },
  {
   "cell_type": "markdown",
   "metadata": {},
   "source": [
    "The recovery rate describes how quickly the household will repair the building. The highest the value the quickest the household will recover. Here we test 3 different values of λ: 0.3, 0.4, and 0.5."
   ]
  },
  {
   "cell_type": "code",
   "execution_count": null,
   "metadata": {},
   "outputs": [],
   "source": [
    "lambdas = np.array([0.3, 0.4, 0.5]) # recovery rates to test"
   ]
  },
  {
   "cell_type": "code",
   "execution_count": null,
   "metadata": {},
   "outputs": [],
   "source": [
    "# Calculate repair costs for all combinations\n",
    "repair_costs = em.ReconstructionCost(t=times, l=lambdas, v=v, k_str=k_str)\n",
    "# Plot the repair costs\n",
    "for  i, _lambda in enumerate(lambdas):\n",
    "    sb.lineplot(x=times, y=repair_costs.losses_t[:, i], label=f\"lambda={_lambda}\")\n",
    "# Add labels and title\n",
    "plt.xlabel('Time (years)')\n",
    "plt.ylabel('Repair Costs ($/year)')\n",
    "plt.title('Repair Costs vs Time')\n",
    "plt.legend()"
   ]
  },
  {
   "cell_type": "markdown",
   "metadata": {},
   "source": [
    "Besides the reconstruction costs a household will suffer income losses relative to the loss of capital as well. The capital in this cases is the value of the building and we use a the productivity of capital index π to calculate the income losses. The income losses are calculated as follows:\n",
    "$$\n",
    "\\Delta i (t) = \\pi \\nu k^{str} e^{-\\lambda t}\n",
    "$$\n"
   ]
  },
  {
   "cell_type": "code",
   "execution_count": null,
   "metadata": {},
   "outputs": [],
   "source": [
    "pi = 0.15 # productivity of capital index\n",
    "# Calculate income for all combinations\n",
    "income_loss = em.IncomeLoss(t=times, l=lambdas, v=v, k_str=k_str, pi=pi)\n",
    "# Plot the income loss\n",
    "for  i, _lambda in enumerate(lambdas):\n",
    "    sb.lineplot(x=times, y=income_loss.losses_t[:, i], label=f\"lambda={_lambda}\")\n",
    "# Add labels and title\n",
    "plt.xlabel('Time (years)')\n",
    "plt.ylabel('Income Loss ($/year)')\n",
    "plt.title('Income loss vs Time')\n",
    "plt.legend()"
   ]
  },
  {
   "cell_type": "markdown",
   "metadata": {},
   "source": [
    "Then we can calculate the consumption losses over time by simply adding up the reconstruction costs and the income losses:\n",
    "\n",
    "$$\n",
    "\\Delta c (t) = c_{reco}(t) + \\Delta i (t)\n",
    "$$"
   ]
  },
  {
   "cell_type": "code",
   "execution_count": null,
   "metadata": {},
   "outputs": [],
   "source": [
    "consumption_loss = em.ConsumptionLoss(t=times, l=lambdas, v=v, k_str=k_str, pi=pi)\n",
    "# Plot the consumption loss\n",
    "for  i, _lambda in enumerate(lambdas):\n",
    "    sb.lineplot(x=times, y=consumption_loss.losses_t[:, i], label=f\"lambda={_lambda}\")\n",
    "# Add labels and title\n",
    "plt.xlabel('Time (years)')\n",
    "plt.ylabel('Consumption loss ($/year)')\n",
    "plt.title('Consumption loss vs Time')\n",
    "plt.legend()"
   ]
  },
  {
   "cell_type": "markdown",
   "metadata": {},
   "source": [
    "Assuming that the household pre-disaster consumption is described by it's yearly income (c0), we can calculate the utility losses over time as well, using the utility function as described above and assuming an elasticity of the marginal utility of consumption of η = 1.5."
   ]
  },
  {
   "cell_type": "code",
   "execution_count": null,
   "metadata": {},
   "outputs": [],
   "source": [
    "c0 = 48000 # yearly income\n",
    "eta = 1.5 # elasticity of the marginal utility\n",
    "\n",
    "# Calculate utility for all combinations\n",
    "dut = em.UtilityLoss(t=times, l=lambdas, v=v, k_str=k_str, pi=pi, c0=c0, eta=eta)\n",
    "# Plot the utility loss\n",
    "for i, _lambda in enumerate(lambdas):\n",
    "    valid_indices = ~np.isnan(dut.losses_t[:, i])\n",
    "    sb.lineplot(x=times[valid_indices], y=dut.losses_t[valid_indices, i], label=f\"lambda={_lambda}\")\n",
    "\n",
    "# Add labels and title\n",
    "plt.xlabel('Time')\n",
    "plt.ylabel('Utility loss')\n",
    "plt.title('Utility loss vs Time')\n",
    "plt.legend()\n",
    "plt.show()"
   ]
  },
  {
   "cell_type": "markdown",
   "metadata": {},
   "source": [
    "To calculate the optimal recovery rate for a household we can assume that the household will try to minimize the utility losses over the recovery period."
   ]
  },
  {
   "cell_type": "code",
   "execution_count": null,
   "metadata": {},
   "outputs": [],
   "source": [
    "c_avg = 48000 # average income for the area of interest\n",
    "\n",
    "# Define a range of lambda values to test\n",
    "t_max = 10 # recovery time considered in years\n",
    "year_n = 520 # how many points we want to evaluate in a year\n",
    "times = np.linspace(0, t_max, t_max * year_n)\n",
    "l_min = em.recovery_rate(t_max)\n",
    "_lambdas_test = np.geomspace(l_min, 10, 1000)\n",
    "dut = em.UtilityLoss(times, _lambdas_test, v=v, k_str=k_str, pi=pi, c0=c0, eta=eta)\n",
    "du = dut.total(rho=0, method=\"discrete\")\n",
    "# Find the lambda value corresponding to the minimum utility loss\n",
    "min_dw_index = np.nanargmin(du)\n",
    "min_lambda = _lambdas_test[min_dw_index]\n",
    "\n",
    "# plot results\n",
    "plt.plot(_lambdas_test, du)\n",
    "plt.axvline(x=min_lambda, color='r', linestyle='--', label=f'Min Utility Loss at λ={min_lambda:.2f}')\n",
    "plt.xscale('log')\n",
    "plt.xlabel('λ')\n",
    "plt.ylabel('Utility loss (-)')\n",
    "plt.legend()\n",
    "plt.show()"
   ]
  },
  {
   "cell_type": "code",
   "execution_count": null,
   "metadata": {},
   "outputs": [],
   "source": [
    "c_avg = 48000 # average income for the area of interest\n",
    "\n",
    "# Define a range of lambda values to test\n",
    "t_max = 10 # recovery time considered in years\n",
    "year_n = 52 # how many points we want to evaluate in a year\n",
    "times = np.linspace(0, t_max, t_max * year_n)\n",
    "l_min = em.recovery_rate(t_max)\n",
    "_lambdas_test = np.geomspace(l_min, 10, 1000)\n",
    "dut = em.UtilityLoss(times, _lambdas_test, v=v, k_str=k_str, pi=pi, c0=c0, eta=eta)\n",
    "du = dut.total(rho=0, method=\"scipy\")\n",
    "# Find the lambda value corresponding to the minimum utility loss\n",
    "min_dw_index = np.nanargmin(du)\n",
    "min_lambda = _lambdas_test[min_dw_index]\n",
    "\n",
    "# plot results\n",
    "plt.plot(_lambdas_test, du)\n",
    "plt.axvline(x=min_lambda, color='r', linestyle='--', label=f'Min Utility Loss at λ={min_lambda:.2f}')\n",
    "plt.xscale('log')\n",
    "plt.xlabel('λ')\n",
    "plt.ylabel('Utility loss (-)')\n",
    "plt.legend()\n",
    "plt.show()"
   ]
  },
  {
   "cell_type": "code",
   "execution_count": null,
   "metadata": {},
   "outputs": [],
   "source": [
    "import time\n",
    "start_time = time.time()\n",
    "optimal_lambda = em.opt_lambda(v, k_str, c0, pi, eta, times=times, lmin=0.3, lmax=10, method=\"discrete\")\n",
    "end_time = time.time()\n",
    "\n",
    "print(f\"Time taken: {end_time - start_time} seconds\")\n",
    "print(f\"Optimal lambda: {optimal_lambda}\")"
   ]
  },
  {
   "cell_type": "code",
   "execution_count": null,
   "metadata": {},
   "outputs": [],
   "source": [
    "start_time = time.time()\n",
    "optimal_lambda = em.opt_lambda(v, k_str, c0, pi, eta, t_max=t_max, lmin=0.3, lmax=10, method=\"scipy\")\n",
    "end_time = time.time()\n",
    "\n",
    "print(f\"Time taken: {end_time - start_time} seconds\")\n",
    "print(f\"Optimal lambda: {optimal_lambda}\")"
   ]
  }
 ],
 "metadata": {
  "kernelspec": {
   "display_name": "fiat_toolbox",
   "language": "python",
   "name": "python3"
  },
  "language_info": {
   "codemirror_mode": {
    "name": "ipython",
    "version": 3
   },
   "file_extension": ".py",
   "mimetype": "text/x-python",
   "name": "python",
   "nbconvert_exporter": "python",
   "pygments_lexer": "ipython3",
   "version": "3.10.16"
  }
 },
 "nbformat": 4,
 "nbformat_minor": 2
}
