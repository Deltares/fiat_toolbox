{
 "cells": [
  {
   "cell_type": "code",
   "execution_count": null,
   "metadata": {},
   "outputs": [],
   "source": [
    "from fiat_toolbox.well_being import Household\n",
    "import matplotlib.pyplot as plt"
   ]
  },
  {
   "cell_type": "code",
   "execution_count": null,
   "metadata": {},
   "outputs": [],
   "source": [
    "v = 0.7 # fraction of damage to the building\n",
    "k_str = 30000 # building value\n",
    "c0 = 48000 # annual income\n",
    "c_avg = 48000 # average annual income"
   ]
  },
  {
   "cell_type": "code",
   "execution_count": null,
   "metadata": {},
   "outputs": [],
   "source": [
    "# Create a WellBeing object and optimize the lambda value\n",
    "household = Household(v=v, k_str=k_str, c0=c0, c_avg=c_avg, t_max=10, dt=1/54)\n",
    "household.opt_lambda(method=\"discrete\")\n",
    "household.plot_opt_lambda(x_type=\"time\");"
   ]
  },
  {
   "cell_type": "code",
   "execution_count": null,
   "metadata": {},
   "outputs": [],
   "source": [
    "# Create a WellBeing object and optimize the lambda value\n",
    "household = Household(v=v, k_str=k_str, c0=c0, c_avg=c_avg, t_max=10, dt=1)\n",
    "household.opt_lambda(method=\"scipy\")\n",
    "household.plot_opt_lambda(x_type=\"time\");"
   ]
  },
  {
   "cell_type": "code",
   "execution_count": null,
   "metadata": {},
   "outputs": [],
   "source": [
    "# Create a WellBeing object and optimize the lambda value\n",
    "household = Household(v=v, k_str=k_str, c0=c0, c_avg=c_avg, t_max=10, dt=1/54)\n",
    "household.opt_lambda(method=\"discrete\")\n",
    "l = household.l_opt[\"lambda\"]\n",
    "z1 = household.l_opt[\"Utility Loss\"]\n",
    "\n",
    "household.opt_lambda(method=\"scipy\")\n",
    "z2 = household.l_opt[\"Utility Loss\"]\n",
    "\n",
    "# Plot the results\n",
    "plt.plot(l, z1, label='Discrete Method')\n",
    "plt.plot(l, z2, label='Scipy Method')\n",
    "plt.xlabel('Lambda')\n",
    "plt.ylabel('Utility Loss')\n",
    "plt.legend()\n",
    "plt.show()"
   ]
  },
  {
   "cell_type": "code",
   "execution_count": null,
   "metadata": {},
   "outputs": [],
   "source": [
    "household = Household(v=v, k_str=k_str, c0=c0, c_avg=c_avg, t_max=10, dt=1/54)\n",
    "household.opt_lambda(method=\"discrete\")\n",
    "household.get_losses(\"discrete\")"
   ]
  },
  {
   "cell_type": "code",
   "execution_count": null,
   "metadata": {},
   "outputs": [],
   "source": [
    "household.plot_consumption()"
   ]
  }
 ],
 "metadata": {
  "kernelspec": {
   "display_name": "fiat_toolbox",
   "language": "python",
   "name": "python3"
  },
  "language_info": {
   "codemirror_mode": {
    "name": "ipython",
    "version": 3
   },
   "file_extension": ".py",
   "mimetype": "text/x-python",
   "name": "python",
   "nbconvert_exporter": "python",
   "pygments_lexer": "ipython3",
   "version": "3.10.16"
  }
 },
 "nbformat": 4,
 "nbformat_minor": 2
}
