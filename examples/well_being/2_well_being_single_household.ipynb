{
 "cells": [
  {
   "cell_type": "code",
   "execution_count": 4,
   "metadata": {},
   "outputs": [],
   "source": [
    "from fiat_toolbox.well_being import Household\n",
    "import matplotlib.pyplot as plt"
   ]
  },
  {
   "cell_type": "markdown",
   "metadata": {},
   "source": [
    "Let's assume we have a household that has a house with a building structure value of '**k_str**' that is damaged by a flood leading to a repair costs '**v**', representing the ratio of the structure value (i.e., v=0.7 describes repair costs that are 70% of the building structure value). Let's assume that the annual consumption of the household '**c0**' is equal to the annual income of the household. And that the average consumption of the area of interest is '**c_avg**' (represented by the average income)"
   ]
  },
  {
   "cell_type": "code",
   "execution_count": null,
   "metadata": {},
   "outputs": [],
   "source": [
    "v = 0.7 # fraction of damage to the building\n",
    "k_str = 30000 # building value\n",
    "c0 = 48000 # annual income\n",
    "c_avg = 48000 # average annual income"
   ]
  },
  {
   "cell_type": "markdown",
   "metadata": {},
   "source": [
    "We can define some economic indicators to assess specific type of losses."
   ]
  },
  {
   "cell_type": "code",
   "execution_count": null,
   "metadata": {},
   "outputs": [],
   "source": [
    "pi = 0.15 # productivity of capital index\n",
    "eta = 1.5 # elasticity of the marginal utility\n",
    "rho = 0.06 # discount rate\n",
    "t_max = 10 # recovery time in years\n",
    "dt = 1/52 # time step in years\n",
    "currency = \"$\""
   ]
  },
  {
   "cell_type": "markdown",
   "metadata": {},
   "source": [
    "Then we can use the Household class to define a household with these characteristics."
   ]
  },
  {
   "cell_type": "code",
   "execution_count": null,
   "metadata": {},
   "outputs": [],
   "source": [
    "# Create a WellBeing object and optimize the lambda value\n",
    "household = Household(v=v, k_str=k_str, c0=c0, c_avg=c_avg, pi=pi, eta=eta, rho=rho, dt=dt, t_max=t_max, currency=currency)\n",
    "household"
   ]
  },
  {
   "cell_type": "markdown",
   "metadata": {},
   "source": [
    "We could have provided already a reconstruction rate with the argument \"l\". Since this is normally not known in advance, we can actually calculate the recovery rate that would optimize the utility loss of the household using the \"opt_lambda\" method. We can visualize the optimization with the \"plot_opt_lambda\" method."
   ]
  },
  {
   "cell_type": "code",
   "execution_count": null,
   "metadata": {},
   "outputs": [],
   "source": [
    "household.opt_lambda(method=\"trapezoid\")\n",
    "household.plot_opt_lambda(x_type=\"time\");"
   ]
  },
  {
   "cell_type": "code",
   "execution_count": null,
   "metadata": {},
   "outputs": [],
   "source": [
    "# Create a WellBeing object and optimize the lambda value\n",
    "household = Household(v=v, k_str=k_str, c0=c0, c_avg=c_avg, t_max=10, dt=1/52)\n",
    "household.opt_lambda(method=\"trapezoid\")\n",
    "l = household.l_opt[\"lambda\"]\n",
    "z1 = household.l_opt[\"Utility Loss\"]\n",
    "\n",
    "household.opt_lambda(method=\"quad\")\n",
    "z2 = household.l_opt[\"Utility Loss\"]\n",
    "\n",
    "# Plot the results\n",
    "plt.plot(l, z1, label='trapezoid Method')\n",
    "plt.plot(l, z2, label='quad Method')\n",
    "plt.xlabel('Lambda')\n",
    "plt.ylabel('Utility Loss')\n",
    "plt.legend()\n",
    "plt.show()"
   ]
  },
  {
   "cell_type": "code",
   "execution_count": null,
   "metadata": {},
   "outputs": [],
   "source": [
    "household = Household(v=v, k_str=k_str, c0=c0, c_avg=c_avg, t_max=10, dt=1/54)\n",
    "household.opt_lambda(method=\"trapezoid\")\n",
    "household.get_losses(\"trapezoid\")"
   ]
  },
  {
   "cell_type": "code",
   "execution_count": null,
   "metadata": {},
   "outputs": [],
   "source": [
    "household.plot_consumption()"
   ]
  }
 ],
 "metadata": {
  "kernelspec": {
   "display_name": "fiat_toolbox",
   "language": "python",
   "name": "python3"
  },
  "language_info": {
   "codemirror_mode": {
    "name": "ipython",
    "version": 3
   },
   "file_extension": ".py",
   "mimetype": "text/x-python",
   "name": "python",
   "nbconvert_exporter": "python",
   "pygments_lexer": "ipython3",
   "version": "3.10.0"
  }
 },
 "nbformat": 4,
 "nbformat_minor": 2
}
