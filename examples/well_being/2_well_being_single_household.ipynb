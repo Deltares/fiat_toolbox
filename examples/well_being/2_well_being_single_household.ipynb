{
 "cells": [
  {
   "cell_type": "code",
   "execution_count": null,
   "metadata": {},
   "outputs": [],
   "source": [
    "import time\n",
    "\n",
    "import matplotlib.pyplot as plt\n",
    "import numpy as np\n",
    "import pandas as pd\n",
    "import seaborn as sns\n",
    "from matplotlib.gridspec import GridSpec\n",
    "\n",
    "from fiat_toolbox.well_being import Household\n"
   ]
  },
  {
   "cell_type": "markdown",
   "metadata": {},
   "source": [
    "Let's assume we have a household that has a house with a building structure value of '**k_str**' that is damaged by a flood leading to a repair costs '**v**', representing the ratio of the structure value (i.e., v=0.7 describes repair costs that are 70% of the building structure value). Let's assume that the annual consumption of the household '**c0**' is equal to the annual income of the household. And that the average consumption of the area of interest is '**c_avg**' (represented by the average income)"
   ]
  },
  {
   "cell_type": "code",
   "execution_count": null,
   "metadata": {},
   "outputs": [],
   "source": [
    "v = 0.7 # fraction of damage to the building\n",
    "k_str = 30000 # building value\n",
    "c0 = 48000 # annual income\n",
    "c_avg = 48000 # average annual income"
   ]
  },
  {
   "cell_type": "markdown",
   "metadata": {},
   "source": [
    "We can define some economic indicators to assess specific type of losses."
   ]
  },
  {
   "cell_type": "code",
   "execution_count": null,
   "metadata": {},
   "outputs": [],
   "source": [
    "pi = 0.15 # productivity of capital index\n",
    "eta = 1.5 # elasticity of the marginal utility\n",
    "rho = 0.06 # discount rate\n",
    "t_max = 10 # recovery time in years\n",
    "dt = 1/52 # time step in years\n",
    "currency = \"$\""
   ]
  },
  {
   "cell_type": "markdown",
   "metadata": {},
   "source": [
    "Then we can use the Household class to define a household with these characteristics."
   ]
  },
  {
   "cell_type": "code",
   "execution_count": null,
   "metadata": {},
   "outputs": [],
   "source": [
    "# Create a WellBeing object and optimize the lambda value\n",
    "household = Household(v=v, k_str=k_str, c0=c0, c_avg=c_avg, pi=pi, eta=eta, rho=rho, dt=dt, t_max=t_max, currency=currency)\n",
    "household"
   ]
  },
  {
   "cell_type": "markdown",
   "metadata": {},
   "source": [
    "We could have provided already a reconstruction rate with the argument \"l\". Since this is normally not known in advance, we can actually calculate the recovery rate that would minimize the utility loss of the household using the \"opt_lambda\" method. We can visualize the optimization with the \"plot_opt_lambda\" method."
   ]
  },
  {
   "cell_type": "code",
   "execution_count": null,
   "metadata": {},
   "outputs": [],
   "source": [
    "household.opt_lambda(method=\"trapezoid\")\n",
    "household.plot_opt_lambda(x_type=\"time\");"
   ]
  },
  {
   "cell_type": "markdown",
   "metadata": {},
   "source": [
    "There are two methods that can be used for calculating the utility loss of the household. \n",
    "\n",
    "- The \"trapezoid\" method, which calculates the integral based on the trapezoid rule, using the numpy package (faster but accurate only for small enough time steps)\n",
    "- The \"quad\" method, which calculates the integral based on the adaptive quadrature algorithm, using the scipy package (slower but not dependent on time step)\n",
    "\n",
    "As you can see in the graph below, the trapezoid method is not accurate enough for large time steps. The quad method is more accurate and should be used for larger time steps. The lack of accuracy of the trapezoid method is high for the really high recovery rates were essentially the recovery time is very short."
   ]
  },
  {
   "cell_type": "code",
   "execution_count": null,
   "metadata": {},
   "outputs": [],
   "source": [
    "# Measure execution time for trapezoid method\n",
    "start_time = time.time()\n",
    "household.opt_lambda(method=\"trapezoid\")\n",
    "end_time = time.time()\n",
    "trapezoid_time = end_time - start_time\n",
    "\n",
    "l = household.l_opt[\"lambda\"]\n",
    "z1 = household.l_opt[\"Utility Loss\"]\n",
    "\n",
    "# Measure execution time for quad method\n",
    "start_time = time.time()\n",
    "household.opt_lambda(method=\"quad\")\n",
    "end_time = time.time()\n",
    "quad_time = end_time - start_time\n",
    "\n",
    "z2 = household.l_opt[\"Utility Loss\"]\n",
    "\n",
    "# Plot the results\n",
    "plt.plot(l, z1, label=f'Trapezoid Method ({trapezoid_time:.2f}s)')\n",
    "plt.plot(l, z2, label=f'Quad Method ({quad_time:.2f}s)')\n",
    "plt.xlabel('Lambda')\n",
    "plt.ylabel('Utility Loss')\n",
    "plt.legend()\n",
    "plt.show()"
   ]
  },
  {
   "cell_type": "markdown",
   "metadata": {},
   "source": [
    "We can run the two methods multiple times for different combinations of time-steps to compare the accuracy of the trapezoid method versus the computation time."
   ]
  },
  {
   "cell_type": "code",
   "execution_count": null,
   "metadata": {},
   "outputs": [],
   "source": [
    "# Define the bins for lambda and dt\n",
    "lambda_bins = np.linspace(0.29, 2.3, 9)\n",
    "dts = np.linspace(0.01, 1, 10)\n",
    "\n",
    "# Create a DataFrame to store the average relative differences\n",
    "bin_labels = [f\"{lambda_bins[i]:.2f}-{lambda_bins[i+1]:.2f}\" for i in range(len(lambda_bins) - 1)]\n",
    "heatmap_data = pd.DataFrame(index=dts, columns=bin_labels)\n",
    "computation_times = []\n",
    "# Calculate the average relative difference for each bin\n",
    "for k, dt in enumerate(dts):\n",
    "    household = Household(v=v, k_str=k_str, c0=c0, c_avg=c_avg, t_max=10, dt=dt)\n",
    "    \n",
    "    start_time = time.time()\n",
    "    household.opt_lambda(method=\"trapezoid\")\n",
    "    end_time = time.time()\n",
    "    t1 = end_time - start_time\n",
    "    \n",
    "    l = household.l_opt[\"lambda\"]\n",
    "    z1 = household.l_opt[\"Utility Loss\"]\n",
    "    \n",
    "    start_time = time.time()\n",
    "    household.opt_lambda(method=\"quad\")\n",
    "    end_time = time.time()\n",
    "    t2 = end_time - start_time\n",
    "\n",
    "    z2 = household.l_opt[\"Utility Loss\"]\n",
    "    \n",
    "    rel_diff = np.abs(z1 - z2) / np.abs(z2)\n",
    "    for i in range(len(lambda_bins) - 1):\n",
    "        mask = (l >= lambda_bins[i]) & (l < lambda_bins[i + 1])\n",
    "        rel_diff_mean = rel_diff[mask].mean() if mask.any() else np.nan\n",
    "        heatmap_data.iloc[k, i] = rel_diff_mean*100\n",
    "    \n",
    "    computation_times.append(t1/t2)  # Store computation gain\n",
    "\n",
    "# Convert the data to float for plotting\n",
    "heatmap_data = heatmap_data.astype(float)"
   ]
  },
  {
   "cell_type": "code",
   "execution_count": null,
   "metadata": {},
   "outputs": [],
   "source": [
    "\n",
    "# Create a figure with two subplots side by side\n",
    "fig = plt.figure(figsize=(14, 8))\n",
    "gs = GridSpec(1, 2, width_ratios=[3, 1], wspace=0.3)\n",
    "\n",
    "# Plot the heatmap on the left\n",
    "ax1 = fig.add_subplot(gs[0, 0])\n",
    "sns.heatmap(heatmap_data, xticklabels=bin_labels, yticklabels=dts, cbar_kws={'label': 'Mean Absolute Difference (%)'}, ax=ax1, vmin=0, vmax=100, cmap='coolwarm')\n",
    "ax1.set_xlabel(\"recovery rate λ\")\n",
    "ax1.set_ylabel(\"time step (years)\")\n",
    "ax1.set_title(\"Heatmap of Average Relative Difference\")\n",
    "ax1.set_xticks(ax1.get_xticks())\n",
    "ax1.set_xticklabels(ax1.get_xticklabels(), rotation=45)  # Rotate x-axis tick labels for better visibility\n",
    "\n",
    "# Plot the line graph on the right\n",
    "ax2 = fig.add_subplot(gs[0, 1])\n",
    "ax2.plot(computation_times, dts, marker='o', label='Comp. time ratio')\n",
    "ax2.set_xlabel(\"trapezoid/quad comp.time ratio (-)\")\n",
    "ax2.set_ylabel(\"time step (years)\")\n",
    "ax2.set_title(\"Computation Ratio vs Time Step\")\n",
    "ax2.set_yticks(dts)  # Align y-axis ticks with the heatmap\n",
    "ax2.grid(True)\n",
    "ax2.legend()\n",
    "ax2.invert_yaxis()  # Reverse the y-axis\n",
    "\n",
    "plt.show()"
   ]
  },
  {
   "cell_type": "markdown",
   "metadata": {},
   "source": [
    "So, this shows that even with small dt the trapezoid is accurate while it is still a lot faster when compared to the quad method."
   ]
  },
  {
   "cell_type": "markdown",
   "metadata": {},
   "source": [
    "So let's run an analysis with a daily time step and the trapezoid method for a single household. We can then show the total losses over the recovery time, with the get_losses method."
   ]
  },
  {
   "cell_type": "code",
   "execution_count": null,
   "metadata": {},
   "outputs": [],
   "source": [
    "household = Household(v=v, k_str=k_str, c0=c0, c_avg=c_avg, t_max=10, dt=1/365)\n",
    "household.opt_lambda(method=\"trapezoid\")\n",
    "household.get_losses(\"trapezoid\")"
   ]
  },
  {
   "cell_type": "markdown",
   "metadata": {},
   "source": [
    "We can plot the consumption over time after the disaster with the \"plot_consumption\" method."
   ]
  },
  {
   "cell_type": "code",
   "execution_count": null,
   "metadata": {},
   "outputs": [],
   "source": [
    "household.plot_consumption()"
   ]
  },
  {
   "cell_type": "code",
   "execution_count": null,
   "metadata": {},
   "outputs": [],
   "source": []
  }
 ],
 "metadata": {
  "kernelspec": {
   "display_name": "fiat_toolbox",
   "language": "python",
   "name": "python3"
  },
  "language_info": {
   "codemirror_mode": {
    "name": "ipython",
    "version": 3
   },
   "file_extension": ".py",
   "mimetype": "text/x-python",
   "name": "python",
   "nbconvert_exporter": "python",
   "pygments_lexer": "ipython3",
   "version": "3.10.0"
  }
 },
 "nbformat": 4,
 "nbformat_minor": 2
}
